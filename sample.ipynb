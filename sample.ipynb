{
 "cells": [
  {
   "cell_type": "code",
   "execution_count": null,
   "metadata": {},
   "outputs": [],
   "source": [
    "# Sample Notebook for demonstration and testing\n",
    "\n",
    "# Local Modules\n",
    "from pyautomata import Automata, Pattern\n",
    "\n",
    "# Rule 30 is the most iconic of Wolfram's Cellular Automata Patterns\n",
    "automata = Automata(30)\n",
    "\n",
    "# The normal pattern is a single bit in the center of the first row\n",
    "canvas = automata.get_canvas(columns=250)\n",
    "canvas.render()"
   ]
  },
  {
   "cell_type": "code",
   "execution_count": null,
   "metadata": {},
   "outputs": [],
   "source": [
    "# Create stats using the first cell's canvas\n",
    "canvas.draw_sums_deviations()"
   ]
  },
  {
   "cell_type": "code",
   "execution_count": null,
   "metadata": {},
   "outputs": [],
   "source": [
    "# This pattern will start the first row with the first value on the left side\n",
    "left_canvas = automata.get_canvas(Pattern.LEFT, 250)\n",
    "left_canvas.render()"
   ]
  },
  {
   "cell_type": "code",
   "execution_count": null,
   "metadata": {},
   "outputs": [],
   "source": [
    "# This pattern will start the first row with the first value on the right side\n",
    "right_canvas = automata.get_canvas(Pattern.RIGHT, 250, regenerate=True)\n",
    "right_canvas.render()"
   ]
  },
  {
   "cell_type": "code",
   "execution_count": null,
   "metadata": {},
   "outputs": [],
   "source": [
    "# This pattern will start the first row with alternating (in)activated bits\n",
    "alternating_canvas = automata.get_canvas(Pattern.ALTERNATING, 250)\n",
    "alternating_canvas.render()"
   ]
  },
  {
   "cell_type": "code",
   "execution_count": null,
   "metadata": {},
   "outputs": [],
   "source": [
    "# This pattern is a first row that is random\n",
    "random_canvas = automata.get_random_canvas(250)\n",
    "random_canvas.render()"
   ]
  }
 ],
 "metadata": {
  "kernelspec": {
   "display_name": "venv",
   "language": "python",
   "name": "python3"
  },
  "language_info": {
   "codemirror_mode": {
    "name": "ipython",
    "version": 3
   },
   "file_extension": ".py",
   "mimetype": "text/x-python",
   "name": "python",
   "nbconvert_exporter": "python",
   "pygments_lexer": "ipython3",
   "version": "3.11.4"
  }
 },
 "nbformat": 4,
 "nbformat_minor": 2
}
