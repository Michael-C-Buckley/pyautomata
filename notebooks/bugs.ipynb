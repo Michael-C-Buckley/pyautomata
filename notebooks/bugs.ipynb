{
 "cells": [
  {
   "cell_type": "code",
   "execution_count": null,
   "metadata": {},
   "outputs": [],
   "source": [
    "# Project PyAutomata Bugs Notebook\n",
    "\"\"\"\n",
    "This exists just to keep track of reproducible bugs, especially ones that are\n",
    "  visually apparent.\n",
    "\"\"\"\n",
    "from pyautomata import Canvas"
   ]
  },
  {
   "cell_type": "code",
   "execution_count": null,
   "metadata": {},
   "outputs": [],
   "source": [
    "# Alternating Canvas Generation\n",
    "\"\"\"\n",
    "Generation between Rust and Python diverges for the alternating canvas pattern.\n",
    "Many rules diverge but some do not, Rule 30 produces the random streak that\n",
    "  makes the visual difference very apparent.\n",
    "\n",
    "This is a known bug and it does fail the specific test case under generation\n",
    "  tests for Python (since Rust was the basis).  It will be repaired so both match.\n",
    "\"\"\"\n",
    "rule = 30\n",
    "python_canvas = Canvas(rule, pattern='alternating', force_python=True)\n",
    "rust_canvas = Canvas(rule, pattern='alternating')\n",
    "\n",
    "common_title = f'Rule {rule}: Alternating First Row'\n",
    "\n",
    "python_canvas.render(title=f'Python {common_title}')\n",
    "rust_canvas.render(title=f'Rust {common_title}')"
   ]
  }
 ],
 "metadata": {
  "kernelspec": {
   "display_name": "venv",
   "language": "python",
   "name": "python3"
  },
  "language_info": {
   "codemirror_mode": {
    "name": "ipython",
    "version": 3
   },
   "file_extension": ".py",
   "mimetype": "text/x-python",
   "name": "python",
   "nbconvert_exporter": "python",
   "pygments_lexer": "ipython3",
   "version": "3.11.6"
  }
 },
 "nbformat": 4,
 "nbformat_minor": 2
}
