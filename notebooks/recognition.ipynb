{
 "cells": [
  {
   "cell_type": "code",
   "execution_count": null,
   "metadata": {},
   "outputs": [],
   "source": [
    "# Project PyAutomata Recognition Notebook\n",
    "\"\"\"\n",
    "This notebook exists for visualizing repeating pattern data on cellular automata\n",
    "\"\"\"\n",
    "# Third-Party Modules\n",
    "import matplotlib.pyplot as plt\n",
    "\n",
    "# Local Modules\n",
    "from pyautomata import Canvas, Recognizer, Pattern\n",
    "from pyautomata.render import prepare_plot\n",
    "\n",
    "# Global Variables\n",
    "pattern = Pattern.STANDARD\n",
    "pattern_length = 8\n",
    "force_python = False\n",
    "\n",
    "# Functions\n",
    "add_plot = lambda x, y, label: plt.plot(x, y, marker='o', linestyle='-', label=label)\n",
    "show_result_plot = lambda legend: prepare_plot('Rows', 'Patterns', f'Max Patterns for Pattern Length: {pattern_length}', legend=legend)"
   ]
  },
  {
   "cell_type": "code",
   "execution_count": null,
   "metadata": {},
   "outputs": [],
   "source": [
    "# Max Pattern Calculation\n",
    "\"\"\"\n",
    "This calculates the max amount of patterns within all rules.\n",
    "Uses the standard pattern by default.\n",
    "\"\"\"\n",
    "all_rules: dict[int, dict[int, int]] = {}\n",
    "\n",
    "for rule in range(1, 257):\n",
    "    print(f'Calculating Rule: {rule}', end='\\r')\n",
    "\n",
    "    local_rule = {}\n",
    "    max_pattern_count = 0\n",
    "\n",
    "    for rows in range(pattern_length * 3, pattern_length * 100, pattern_length * 3):\n",
    "        canvas = Canvas(rule, rows, pattern)\n",
    "        recognizer = Recognizer(rule, canvas.result, pattern, pattern_length, force_python)\n",
    "        pattern_count = len(recognizer.pattern_rules)\n",
    "\n",
    "        if max_pattern_count == pattern_count:\n",
    "            break\n",
    "        \n",
    "        if max_pattern_count > pattern_count:\n",
    "            break\n",
    "\n",
    "        local_rule[rows] = pattern_count\n",
    "        max_pattern_count = pattern_count\n",
    "\n",
    "    all_rules[rule] = local_rule\n",
    "\n",
    "print('All calculations completed.')"
   ]
  },
  {
   "cell_type": "code",
   "execution_count": null,
   "metadata": {},
   "outputs": [],
   "source": [
    "# Plot Results\n",
    "\"\"\"\n",
    "Plots all the rules on a chart showing the variance in max patterning.\n",
    "No labeling because it crowds out the plot badly, this just shows overall\n",
    "  trending and how early some finish versus others high max patterns, etc.\n",
    "\"\"\"\n",
    "for rule, output_dict in all_rules.items():\n",
    "    add_plot(output_dict.keys(), output_dict.values(), rule)\n",
    "show_result_plot(legend=False)"
   ]
  },
  {
   "cell_type": "code",
   "execution_count": null,
   "metadata": {},
   "outputs": [],
   "source": [
    "# Plot Selected Results\n",
    "\"\"\"\n",
    "Plots only the rules selected in the list with labeling.\n",
    "The pre-selected list shows some more interesting cases.\n",
    "\"\"\"\n",
    "rules_wanted: list[int] = [30, 45, 67, 86, 89, 101]\n",
    "\n",
    "for rule in rules_wanted:\n",
    "    output_dict = all_rules.get(rule)\n",
    "    add_plot(output_dict.keys(), output_dict.values(), rule)\n",
    "show_result_plot(legend=True)"
   ]
  }
 ],
 "metadata": {
  "kernelspec": {
   "display_name": "venv",
   "language": "python",
   "name": "python3"
  },
  "language_info": {
   "codemirror_mode": {
    "name": "ipython",
    "version": 3
   },
   "file_extension": ".py",
   "mimetype": "text/x-python",
   "name": "python",
   "nbconvert_exporter": "python",
   "pygments_lexer": "ipython3",
   "version": "3.11.6"
  }
 },
 "nbformat": 4,
 "nbformat_minor": 2
}
