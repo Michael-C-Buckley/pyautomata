{
 "cells": [
  {
   "cell_type": "code",
   "execution_count": null,
   "metadata": {},
   "outputs": [],
   "source": [
    "# Sample Notebook for demonstration and testing\n",
    "\n",
    "# Local Modules\n",
    "from pyautomata import Canvas, Pattern\n",
    "\n",
    "# Rule 30 is the most iconic of Wolfram's Cellular Automata Patterns\n",
    "rule = 30\n",
    "columns = 250\n",
    "\n",
    "# The normal pattern is a single bit in the center of the first row\n",
    "canvas = Canvas(rule, columns)\n",
    "canvas.render()"
   ]
  },
  {
   "cell_type": "code",
   "execution_count": null,
   "metadata": {},
   "outputs": [],
   "source": [
    "# Draw standard deviation stats on the rows using the first cell's canvas\n",
    "canvas.draw_sums_deviations()"
   ]
  },
  {
   "cell_type": "code",
   "execution_count": null,
   "metadata": {},
   "outputs": [],
   "source": [
    "# This pattern will start the first row with the first value on the left side\n",
    "left_canvas = Canvas(rule, columns, Pattern.LEFT)\n",
    "left_canvas.render()"
   ]
  },
  {
   "cell_type": "code",
   "execution_count": null,
   "metadata": {},
   "outputs": [],
   "source": [
    "# This pattern will start the first row with the first value on the right side\n",
    "# Patterns also accept strings that match different patterns available \n",
    "right_canvas = Canvas(rule, columns, pattern='right')\n",
    "right_canvas.render()"
   ]
  },
  {
   "cell_type": "code",
   "execution_count": null,
   "metadata": {},
   "outputs": [],
   "source": [
    "# This pattern will start the first row with alternating (in)activated bits\n",
    "alternating_canvas = Canvas(rule, columns, Pattern.ALTERNATING)\n",
    "alternating_canvas.render()"
   ]
  },
  {
   "cell_type": "code",
   "execution_count": null,
   "metadata": {},
   "outputs": [],
   "source": [
    "# This pattern is a first row that is random\n",
    "random_canvas = Canvas(rule, columns, Pattern.RANDOM)\n",
    "random_canvas.render()"
   ]
  }
 ],
 "metadata": {
  "kernelspec": {
   "display_name": "Python 3 (ipykernel)",
   "language": "python",
   "name": "python3"
  },
  "language_info": {
   "codemirror_mode": {
    "name": "ipython",
    "version": 3
   },
   "file_extension": ".py",
   "mimetype": "text/x-python",
   "name": "python",
   "nbconvert_exporter": "python",
   "pygments_lexer": "ipython3",
   "version": "3.11.6"
  }
 },
 "nbformat": 4,
 "nbformat_minor": 4
}
