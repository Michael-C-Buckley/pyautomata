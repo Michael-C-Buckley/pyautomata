{
 "cells": [
  {
   "cell_type": "code",
   "execution_count": 1,
   "metadata": {},
   "outputs": [],
   "source": [
    "# Project PyAutomata Performance Testing\n",
    "\"\"\"\n",
    "This notebook exists as a means to evaluate Rust v. Python logic computation.\n",
    "\"\"\"\n",
    "# Python Modules\n",
    "from time import perf_counter\n",
    "\n",
    "# Third-Party Modules\n",
    "import matplotlib.pyplot as plt\n",
    "\n",
    "# Local Modules\n",
    "from pyautomata import Automata, Canvas\n",
    "from pyautomata.handlers import RUST_AVAILABLE\n",
    "\n",
    "# Global Variables\n",
    "automata = Automata(30)\n",
    "canvas = Canvas(automata, generate=False)\n",
    "\n",
    "# Functions\n",
    "def generate_test(canvas: Canvas, columns: int, python:bool):\n",
    "    start_time = perf_counter()\n",
    "    canvas.columns = columns\n",
    "    canvas.generate(force_python=python)\n",
    "    time_taken = perf_counter() - start_time\n",
    "    return time_taken\n"
   ]
  },
  {
   "cell_type": "code",
   "execution_count": 2,
   "metadata": {},
   "outputs": [],
   "source": [
    "# Generation Calculation\n",
    "column_list = [100, 250, 1000, 2500, 5000, 10000]\n",
    "\n",
    "python_generate: dict[int, float] = {}\n",
    "rust_generate: dict[int, float] = {}\n",
    "\n",
    "# Rust Tests\n",
    "if RUST_AVAILABLE:\n",
    "    for columns in column_list:\n",
    "        rust_generate[columns] = generate_test(canvas, columns, False)\n",
    "\n",
    "# Python Tests\n",
    "for columns in column_list:\n",
    "    python_generate[columns] = generate_test(canvas, columns, True)\n",
    "\n"
   ]
  },
  {
   "cell_type": "code",
   "execution_count": null,
   "metadata": {},
   "outputs": [],
   "source": [
    "# Plot Calculation time\n",
    "\n",
    "plt.plot(rust_generate.keys(), rust_generate.values(), marker='o', linestyle='-')\n",
    "plt.plot(python_generate.keys(), python_generate.values(), marker='o', linestyle='-')\n",
    "plt.xlabel('Columns')\n",
    "plt.ylabel('Time taken (s)')\n",
    "plt.title('Calculation Time')\n",
    "plt.grid(True)\n",
    "plt.show()"
   ]
  },
  {
   "cell_type": "code",
   "execution_count": null,
   "metadata": {},
   "outputs": [],
   "source": [
    "# Rust Speed Ratio\n",
    "\n",
    "rust_boost = {}\n",
    "\n",
    "if not RUST_AVAILABLE:\n",
    "    raise ValueError('Rust must be available for this test')\n",
    "\n",
    "for columns in column_list:\n",
    "    rust_boost[columns] = python_generate[columns] // rust_generate[columns]\n",
    "\n",
    "\n",
    "plt.plot(rust_boost.keys(), rust_boost.values(), marker='o', linestyle='-')\n",
    "plt.xlabel('Columns')\n",
    "plt.ylabel('Speed Boost (x)')\n",
    "plt.title('Rust Speed Boost Ratio')\n",
    "plt.grid(True)\n",
    "plt.show()\n"
   ]
  }
 ],
 "metadata": {
  "kernelspec": {
   "display_name": "venv",
   "language": "python",
   "name": "python3"
  },
  "language_info": {
   "codemirror_mode": {
    "name": "ipython",
    "version": 3
   },
   "file_extension": ".py",
   "mimetype": "text/x-python",
   "name": "python",
   "nbconvert_exporter": "python",
   "pygments_lexer": "ipython3",
   "version": "3.11.6"
  }
 },
 "nbformat": 4,
 "nbformat_minor": 2
}
