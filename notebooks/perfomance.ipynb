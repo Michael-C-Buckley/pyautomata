{
 "cells": [
  {
   "cell_type": "code",
   "execution_count": 1,
   "metadata": {},
   "outputs": [
    {
     "ename": "ImportError",
     "evalue": "cannot import name 'Automata' from partially initialized module 'pyautomata' (most likely due to a circular import) (/home/michael/Projects/Python/pyautomata/pyautomata/__init__.py)",
     "output_type": "error",
     "traceback": [
      "\u001b[0;31m---------------------------------------------------------------------------\u001b[0m",
      "\u001b[0;31mImportError\u001b[0m                               Traceback (most recent call last)",
      "Cell \u001b[0;32mIn[1], line 9\u001b[0m\n\u001b[1;32m      6\u001b[0m \u001b[38;5;28;01mimport\u001b[39;00m \u001b[38;5;21;01mmatplotlib\u001b[39;00m\u001b[38;5;21;01m.\u001b[39;00m\u001b[38;5;21;01mpyplot\u001b[39;00m \u001b[38;5;28;01mas\u001b[39;00m \u001b[38;5;21;01mplt\u001b[39;00m\n\u001b[1;32m      8\u001b[0m \u001b[38;5;66;03m# Local Modules\u001b[39;00m\n\u001b[0;32m----> 9\u001b[0m \u001b[38;5;28;01mfrom\u001b[39;00m \u001b[38;5;21;01mpyautomata\u001b[39;00m \u001b[38;5;28;01mimport\u001b[39;00m Automata, Canvas\n\u001b[1;32m     10\u001b[0m \u001b[38;5;28;01mfrom\u001b[39;00m \u001b[38;5;21;01mpyautomata\u001b[39;00m\u001b[38;5;21;01m.\u001b[39;00m\u001b[38;5;21;01mhandlers\u001b[39;00m \u001b[38;5;28;01mimport\u001b[39;00m RUST_AVAILABLE\n\u001b[1;32m     11\u001b[0m \u001b[38;5;28;01mfrom\u001b[39;00m \u001b[38;5;21;01mpyautomata\u001b[39;00m\u001b[38;5;21;01m.\u001b[39;00m\u001b[38;5;21;01mhandlers\u001b[39;00m\u001b[38;5;21;01m.\u001b[39;00m\u001b[38;5;21;01mbenchmark\u001b[39;00m \u001b[38;5;28;01mimport\u001b[39;00m get_comparison_benchmarks\n",
      "File \u001b[0;32m~/Projects/Python/pyautomata/pyautomata/__init__.py:1\u001b[0m\n\u001b[0;32m----> 1\u001b[0m \u001b[38;5;28;01mfrom\u001b[39;00m \u001b[38;5;21;01mpyautomata\u001b[39;00m\u001b[38;5;21;01m.\u001b[39;00m\u001b[38;5;21;01mclasses\u001b[39;00m \u001b[38;5;28;01mimport\u001b[39;00m Automata, Canvas, Pattern\n\u001b[1;32m      2\u001b[0m \u001b[38;5;28;01mfrom\u001b[39;00m \u001b[38;5;21;01mpyautomata\u001b[39;00m\u001b[38;5;21;01m.\u001b[39;00m\u001b[38;5;21;01mstats\u001b[39;00m \u001b[38;5;28;01mimport\u001b[39;00m StatsContainer, calculate_stats\n\u001b[1;32m      3\u001b[0m \u001b[38;5;28;01mfrom\u001b[39;00m \u001b[38;5;21;01mpyautomata\u001b[39;00m\u001b[38;5;21;01m.\u001b[39;00m\u001b[38;5;21;01mrender\u001b[39;00m \u001b[38;5;28;01mimport\u001b[39;00m draw_plot, draw_standard_deviation\n",
      "File \u001b[0;32m~/Projects/Python/pyautomata/pyautomata/classes/__init__.py:1\u001b[0m\n\u001b[0;32m----> 1\u001b[0m \u001b[38;5;28;01mfrom\u001b[39;00m \u001b[38;5;21;01mpyautomata\u001b[39;00m\u001b[38;5;21;01m.\u001b[39;00m\u001b[38;5;21;01mclasses\u001b[39;00m\u001b[38;5;21;01m.\u001b[39;00m\u001b[38;5;21;01mautomata\u001b[39;00m \u001b[38;5;28;01mimport\u001b[39;00m Automata\n\u001b[1;32m      2\u001b[0m \u001b[38;5;28;01mfrom\u001b[39;00m \u001b[38;5;21;01mpyautomata\u001b[39;00m\u001b[38;5;21;01m.\u001b[39;00m\u001b[38;5;21;01mclasses\u001b[39;00m\u001b[38;5;21;01m.\u001b[39;00m\u001b[38;5;21;01mcanvas\u001b[39;00m \u001b[38;5;28;01mimport\u001b[39;00m Canvas\n\u001b[1;32m      3\u001b[0m \u001b[38;5;28;01mfrom\u001b[39;00m \u001b[38;5;21;01mpyautomata\u001b[39;00m\u001b[38;5;21;01m.\u001b[39;00m\u001b[38;5;21;01mclasses\u001b[39;00m\u001b[38;5;21;01m.\u001b[39;00m\u001b[38;5;21;01mgeneral\u001b[39;00m \u001b[38;5;28;01mimport\u001b[39;00m Pattern\n",
      "File \u001b[0;32m~/Projects/Python/pyautomata/pyautomata/classes/automata.py:7\u001b[0m\n\u001b[1;32m      4\u001b[0m \u001b[38;5;28;01mfrom\u001b[39;00m \u001b[38;5;21;01mnumpy\u001b[39;00m \u001b[38;5;28;01mimport\u001b[39;00m array, binary_repr, uint8\n\u001b[1;32m      6\u001b[0m \u001b[38;5;66;03m# Local Modules\u001b[39;00m\n\u001b[0;32m----> 7\u001b[0m \u001b[38;5;28;01mfrom\u001b[39;00m \u001b[38;5;21;01mpyautomata\u001b[39;00m\u001b[38;5;21;01m.\u001b[39;00m\u001b[38;5;21;01mclasses\u001b[39;00m\u001b[38;5;21;01m.\u001b[39;00m\u001b[38;5;21;01mcanvas\u001b[39;00m \u001b[38;5;28;01mimport\u001b[39;00m Canvas\n\u001b[1;32m      8\u001b[0m \u001b[38;5;28;01mfrom\u001b[39;00m \u001b[38;5;21;01mpyautomata\u001b[39;00m\u001b[38;5;21;01m.\u001b[39;00m\u001b[38;5;21;01mclasses\u001b[39;00m\u001b[38;5;21;01m.\u001b[39;00m\u001b[38;5;21;01mgeneral\u001b[39;00m \u001b[38;5;28;01mimport\u001b[39;00m Pattern\n\u001b[1;32m     10\u001b[0m \u001b[38;5;28;01mclass\u001b[39;00m \u001b[38;5;21;01mAutomata\u001b[39;00m:\n",
      "File \u001b[0;32m~/Projects/Python/pyautomata/pyautomata/classes/canvas.py:7\u001b[0m\n\u001b[1;32m      4\u001b[0m \u001b[38;5;28;01mfrom\u001b[39;00m \u001b[38;5;21;01mtyping\u001b[39;00m \u001b[38;5;28;01mimport\u001b[39;00m TYPE_CHECKING\n\u001b[1;32m      6\u001b[0m \u001b[38;5;66;03m# Local Modules\u001b[39;00m\n\u001b[0;32m----> 7\u001b[0m \u001b[38;5;28;01mfrom\u001b[39;00m \u001b[38;5;21;01mpyautomata\u001b[39;00m\u001b[38;5;21;01m.\u001b[39;00m\u001b[38;5;21;01mclasses\u001b[39;00m\u001b[38;5;21;01m.\u001b[39;00m\u001b[38;5;21;01mbasecanvas\u001b[39;00m \u001b[38;5;28;01mimport\u001b[39;00m BaseCanvas\n\u001b[1;32m      8\u001b[0m \u001b[38;5;28;01mfrom\u001b[39;00m \u001b[38;5;21;01mpyautomata\u001b[39;00m\u001b[38;5;21;01m.\u001b[39;00m\u001b[38;5;21;01mclasses\u001b[39;00m\u001b[38;5;21;01m.\u001b[39;00m\u001b[38;5;21;01mgeneral\u001b[39;00m \u001b[38;5;28;01mimport\u001b[39;00m Pattern\n\u001b[1;32m      9\u001b[0m \u001b[38;5;28;01mfrom\u001b[39;00m \u001b[38;5;21;01mpyautomata\u001b[39;00m\u001b[38;5;21;01m.\u001b[39;00m\u001b[38;5;21;01mrender\u001b[39;00m \u001b[38;5;28;01mimport\u001b[39;00m draw_plot, draw_standard_deviation\n",
      "File \u001b[0;32m~/Projects/Python/pyautomata/pyautomata/classes/basecanvas.py:18\u001b[0m\n\u001b[1;32m     16\u001b[0m \u001b[38;5;66;03m# Local Modules\u001b[39;00m\n\u001b[1;32m     17\u001b[0m \u001b[38;5;28;01mfrom\u001b[39;00m \u001b[38;5;21;01mpyautomata\u001b[39;00m\u001b[38;5;21;01m.\u001b[39;00m\u001b[38;5;21;01mclasses\u001b[39;00m\u001b[38;5;21;01m.\u001b[39;00m\u001b[38;5;21;01mgeneral\u001b[39;00m \u001b[38;5;28;01mimport\u001b[39;00m Pattern\n\u001b[0;32m---> 18\u001b[0m \u001b[38;5;28;01mfrom\u001b[39;00m \u001b[38;5;21;01mpyautomata\u001b[39;00m\u001b[38;5;21;01m.\u001b[39;00m\u001b[38;5;21;01mhandlers\u001b[39;00m \u001b[38;5;28;01mimport\u001b[39;00m generate_canvas, RUST_AVAILABLE\n\u001b[1;32m     19\u001b[0m \u001b[38;5;28;01mfrom\u001b[39;00m \u001b[38;5;21;01mpyautomata\u001b[39;00m\u001b[38;5;21;01m.\u001b[39;00m\u001b[38;5;21;01mversion\u001b[39;00m \u001b[38;5;28;01mimport\u001b[39;00m VERSION\n\u001b[1;32m     21\u001b[0m \u001b[38;5;28;01mif\u001b[39;00m TYPE_CHECKING:\n",
      "File \u001b[0;32m~/Projects/Python/pyautomata/pyautomata/handlers/__init__.py:4\u001b[0m\n\u001b[1;32m      1\u001b[0m \u001b[38;5;28;01mfrom\u001b[39;00m \u001b[38;5;21;01mpyautomata\u001b[39;00m\u001b[38;5;21;01m.\u001b[39;00m\u001b[38;5;21;01mhandlers\u001b[39;00m\u001b[38;5;21;01m.\u001b[39;00m\u001b[38;5;21;01mrust\u001b[39;00m \u001b[38;5;28;01mimport\u001b[39;00m (\n\u001b[1;32m      2\u001b[0m     RUST_AVAILABLE, generate_canvas, compute_stats\n\u001b[1;32m      3\u001b[0m )\n\u001b[0;32m----> 4\u001b[0m \u001b[38;5;28;01mfrom\u001b[39;00m \u001b[38;5;21;01mpyautomata\u001b[39;00m\u001b[38;5;21;01m.\u001b[39;00m\u001b[38;5;21;01mhandlers\u001b[39;00m\u001b[38;5;21;01m.\u001b[39;00m\u001b[38;5;21;01mbenchmark\u001b[39;00m \u001b[38;5;28;01mimport\u001b[39;00m (\n\u001b[1;32m      5\u001b[0m     CalculationData, benchmark_calculation, get_comparison_benchmarks\n\u001b[1;32m      6\u001b[0m )\n",
      "File \u001b[0;32m~/Projects/Python/pyautomata/pyautomata/handlers/benchmark.py:13\u001b[0m\n\u001b[1;32m      7\u001b[0m \u001b[38;5;28;01mfrom\u001b[39;00m \u001b[38;5;21;01mtime\u001b[39;00m \u001b[38;5;28;01mimport\u001b[39;00m perf_counter\n\u001b[1;32m      9\u001b[0m \u001b[38;5;66;03m# Third-Party Modules\u001b[39;00m\n\u001b[1;32m     10\u001b[0m \n\u001b[1;32m     11\u001b[0m \n\u001b[1;32m     12\u001b[0m \u001b[38;5;66;03m# Local Modules\u001b[39;00m\n\u001b[0;32m---> 13\u001b[0m \u001b[38;5;28;01mfrom\u001b[39;00m \u001b[38;5;21;01mpyautomata\u001b[39;00m \u001b[38;5;28;01mimport\u001b[39;00m Automata, Canvas\n\u001b[1;32m     14\u001b[0m \u001b[38;5;28;01mfrom\u001b[39;00m \u001b[38;5;21;01mpyautomata\u001b[39;00m\u001b[38;5;21;01m.\u001b[39;00m\u001b[38;5;21;01mhandlers\u001b[39;00m\u001b[38;5;21;01m.\u001b[39;00m\u001b[38;5;21;01mrust\u001b[39;00m \u001b[38;5;28;01mimport\u001b[39;00m RUST_AVAILABLE\n\u001b[1;32m     16\u001b[0m \u001b[38;5;28;01mclass\u001b[39;00m \u001b[38;5;21;01mEngine\u001b[39;00m(Enum):\n",
      "\u001b[0;31mImportError\u001b[0m: cannot import name 'Automata' from partially initialized module 'pyautomata' (most likely due to a circular import) (/home/michael/Projects/Python/pyautomata/pyautomata/__init__.py)"
     ]
    }
   ],
   "source": [
    "# Project PyAutomata Performance Testing\n",
    "\"\"\"\n",
    "This notebook exists as a means to evaluate Rust v. Python logic computation.\n",
    "\"\"\"\n",
    "# Third-Party Modules\n",
    "import matplotlib.pyplot as plt\n",
    "\n",
    "# Local Modules\n",
    "from pyautomata import Automata, Canvas\n",
    "from pyautomata.handlers import RUST_AVAILABLE\n",
    "from pyautomata.handlers.benchmark import get_comparison_benchmarks\n",
    "\n",
    "# Global Variables\n",
    "automata = Automata(30)\n",
    "canvas = Canvas(automata, generate=False)"
   ]
  },
  {
   "cell_type": "code",
   "execution_count": null,
   "metadata": {},
   "outputs": [],
   "source": [
    "# Generation Calculation\n",
    "\"\"\"\n",
    "Rust is near instant on modern computers for values less than 10000.\n",
    "Python is significantly slower and 10000 will start to become several minutes,\n",
    "  with higher values quickly taking hours.\n",
    "\n",
    "A print statement will track the progress as it works through the dataset.\n",
    "\"\"\"\n",
    "# start = 500\n",
    "# stop = 10000\n",
    "# step = 500\n",
    "rust_benchmarks, python_benchmarks = get_comparison_benchmarks()\n",
    "# rust_benchmarks, python_benchmarks = get_comparison_benchmarks(start, stop, step)"
   ]
  },
  {
   "cell_type": "code",
   "execution_count": null,
   "metadata": {},
   "outputs": [],
   "source": [
    "# Graph the time taken to calculate\n",
    "\n",
    "for i in [rust_benchmarks, python_benchmarks]:\n",
    "    plt.plot(i.data.keys(), i.data.values(), marker='o', linestyle='-', label=i.engine.value)\n",
    "\n",
    "plt.xlabel('Columns')\n",
    "plt.ylabel('Time taken (s)')\n",
    "plt.title('Calculation Time')\n",
    "plt.grid(True)\n",
    "plt.legend()\n",
    "plt.show()"
   ]
  },
  {
   "cell_type": "code",
   "execution_count": null,
   "metadata": {},
   "outputs": [],
   "source": [
    "# Rust Speed Ratio\n",
    "\n",
    "rust_boost = {}\n",
    "\n",
    "if not RUST_AVAILABLE:\n",
    "    raise ValueError('Rust must be available for this test')\n",
    "\n",
    "for columns in rust_benchmarks.data:\n",
    "    rust_boost[columns] = python_benchmarks.data[columns] / rust_benchmarks.data[columns]\n",
    "\n",
    "\n",
    "plt.plot(rust_boost.keys(), rust_boost.values(), marker='o', linestyle='-')\n",
    "plt.xlabel('Columns')\n",
    "plt.ylabel('Speed Boost (x)')\n",
    "plt.title('Rust Speed Boost Ratio')\n",
    "plt.grid(True)\n",
    "plt.show()"
   ]
  }
 ],
 "metadata": {
  "kernelspec": {
   "display_name": "venv",
   "language": "python",
   "name": "python3"
  },
  "language_info": {
   "codemirror_mode": {
    "name": "ipython",
    "version": 3
   },
   "file_extension": ".py",
   "mimetype": "text/x-python",
   "name": "python",
   "nbconvert_exporter": "python",
   "pygments_lexer": "ipython3",
   "version": "3.11.6"
  }
 },
 "nbformat": 4,
 "nbformat_minor": 2
}
