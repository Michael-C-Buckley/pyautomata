{
 "cells": [
  {
   "cell_type": "code",
   "execution_count": null,
   "metadata": {},
   "outputs": [],
   "source": [
    "# Project PyAutomata Performance Testing\n",
    "\"\"\"\n",
    "This notebook exists as a means to evaluate Rust v. Python logic computation.\n",
    "\"\"\"\n",
    "# Third-Party Modules\n",
    "import matplotlib.pyplot as plt\n",
    "\n",
    "# Local Modules\n",
    "from pyautomata.render import prepare_plot\n",
    "from pyautomata.handlers import RUST_AVAILABLE\n",
    "from pyautomata.handlers.benchmark import get_comparison_benchmarks"
   ]
  },
  {
   "cell_type": "code",
   "execution_count": null,
   "metadata": {},
   "outputs": [],
   "source": [
    "# Generation Calculation\n",
    "\"\"\"\n",
    "Rust is near instant on modern computers for values less than 10000.\n",
    "Python is significantly slower and 10000 will start to become several minutes,\n",
    "  with higher values quickly taking hours.\n",
    "\n",
    "A print statement will track the progress as it works through the dataset.\n",
    "\n",
    "`end` is inclusive and will be included in the test results, unlike Python's \n",
    "  range function. The pattern is the standard center start pattern.\n",
    "\n",
    "These default values will take about 30 minutes to compute for consumer hardware.\n",
    "Ending at 5000 will be around 10 minutes.\n",
    "\"\"\"\n",
    "# \n",
    "start = 1000\n",
    "end = 10000\n",
    "step = 1000\n",
    "\n",
    "rust_benchmarks, python_benchmarks = get_comparison_benchmarks(start, end, step)"
   ]
  },
  {
   "cell_type": "code",
   "execution_count": null,
   "metadata": {},
   "outputs": [],
   "source": [
    "# Graph the time taken to calculate\n",
    "\n",
    "for i in [rust_benchmarks, python_benchmarks]:\n",
    "    plt.plot(i.data.keys(), i.data.values(), marker='o', linestyle='-', label=i.engine.value)\n",
    "\n",
    "prepare_plot('Columns', 'Time taken (s)', 'Calculation Time', legend=True)"
   ]
  },
  {
   "cell_type": "code",
   "execution_count": null,
   "metadata": {},
   "outputs": [],
   "source": [
    "# Rust Speed Ratio\n",
    "\n",
    "rust_boost = {}\n",
    "\n",
    "if not RUST_AVAILABLE:\n",
    "    raise ValueError('Rust must be available for this test')\n",
    "\n",
    "for columns in rust_benchmarks.data:\n",
    "    rust_boost[columns] = python_benchmarks.data[columns] / rust_benchmarks.data[columns]\n",
    "\n",
    "plt.plot(rust_boost.keys(), rust_boost.values(), marker='o', linestyle='-')\n",
    "prepare_plot('Columns', 'Speed Boost (x)', 'Rust Speed Boost Ratio')"
   ]
  },
  {
   "cell_type": "code",
   "execution_count": null,
   "metadata": {},
   "outputs": [],
   "source": [
    "# Plot Individual Times\n",
    "\"\"\"\n",
    "This cell shows each generation time individually which better shows Rust's\n",
    "  since it appears to be near instant on the same chart as Python.\n",
    "\"\"\"\n",
    "\n",
    "for i in [rust_benchmarks, python_benchmarks]:\n",
    "    plt.plot(i.data.keys(), i.data.values(), marker='o', linestyle='-', label=i.engine.value)\n",
    "    prepare_plot('Columns', 'Generation time (s)', f'{i.engine.value} Generation Time')"
   ]
  }
 ],
 "metadata": {
  "kernelspec": {
   "display_name": "venv",
   "language": "python",
   "name": "python3"
  },
  "language_info": {
   "codemirror_mode": {
    "name": "ipython",
    "version": 3
   },
   "file_extension": ".py",
   "mimetype": "text/x-python",
   "name": "python",
   "nbconvert_exporter": "python",
   "pygments_lexer": "ipython3",
   "version": "3.11.6"
  }
 },
 "nbformat": 4,
 "nbformat_minor": 2
}
